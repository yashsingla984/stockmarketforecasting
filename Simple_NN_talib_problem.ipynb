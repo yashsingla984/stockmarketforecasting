{
  "nbformat": 4,
  "nbformat_minor": 0,
  "metadata": {
    "colab": {
      "provenance": [],
      "authorship_tag": "ABX9TyPP0R2G6r92ImjS4kGAJlLn",
      "include_colab_link": true
    },
    "kernelspec": {
      "name": "python3",
      "display_name": "Python 3"
    },
    "language_info": {
      "name": "python"
    }
  },
  "cells": [
    {
      "cell_type": "markdown",
      "metadata": {
        "id": "view-in-github",
        "colab_type": "text"
      },
      "source": [
        "<a href=\"https://colab.research.google.com/github/yashsingla984/stockmarketforecasting/blob/master/Simple_NN_talib_problem.ipynb\" target=\"_parent\"><img src=\"https://colab.research.google.com/assets/colab-badge.svg\" alt=\"Open In Colab\"/></a>"
      ]
    },
    {
      "cell_type": "code",
      "execution_count": 1,
      "metadata": {
        "id": "MRT3IiY__6VT"
      },
      "outputs": [],
      "source": [
        "import random\n",
        "import pandas as pd\n",
        "import numpy as np\n",
        "import tensorflow as tf\n",
        "from tensorflow import keras\n",
        "from tensorflow.keras import layers\n",
        "\n",
        "# Set seeds for reproducibility\n",
        "random.seed(25)\n",
        "np.random.seed(25)\n",
        "tf.random.set_seed(25)"
      ]
    },
    {
      "cell_type": "code",
      "source": [
        "import yfinance as yf\n",
        "import pandas as pd\n",
        "import numpy as np\n",
        "import matplotlib.pyplot as plt"
      ],
      "metadata": {
        "id": "dIzHqdHdAEp4"
      },
      "execution_count": 2,
      "outputs": []
    },
    {
      "cell_type": "code",
      "source": [
        "# Function to calculate RSI\n",
        "def calculate_rsi(data, period=14):\n",
        "    delta = data.diff()\n",
        "    gain = (delta.where(delta > 0, 0)).rolling(window=period).mean()\n",
        "    loss = (-delta.where(delta < 0, 0)).rolling(window=period).mean()\n",
        "    rs = gain / loss\n",
        "    rsi = 100 - (100 / (1 + rs))\n",
        "    return rsi\n",
        "\n",
        "# Function to calculate Williams %R\n",
        "def calculate_williams_r(high, low, close, period=14):\n",
        "    hh = high.rolling(window=period).max()\n",
        "    ll = low.rolling(window=period).min()\n",
        "    williams_r = ((hh - close) / (hh - ll)) * -100\n",
        "    return williams_r\n"
      ],
      "metadata": {
        "id": "PvVCyiGWAIk6"
      },
      "execution_count": 3,
      "outputs": []
    },
    {
      "cell_type": "code",
      "source": [
        "# Step 1: Fetch historical stock price data for Apple (AAPL)\n",
        "dataset = yf.download('AAPL', start='2010-01-01', end='2022-01-01')\n",
        "print(dataset.columns)\n",
        "# Step 2: Calculate additional features\n",
        "dataset['H-L'] = dataset['High'] - dataset['Low']\n",
        "dataset['O-C'] = dataset['Close'] - dataset['Open']\n",
        "dataset['3day MA'] = dataset['Close'].shift(1).rolling(window=3).mean()\n",
        "dataset['10day MA'] = dataset['Close'].shift(1).rolling(window=10).mean()\n",
        "dataset['30day MA'] = dataset['Close'].shift(1).rolling(window=30).mean()\n",
        "dataset['Std_dev'] = dataset['Close'].rolling(window=5).std()\n",
        "dataset['RSI'] = calculate_rsi(dataset['Close'])\n",
        "dataset['Williams %R'] = calculate_williams_r(dataset['High'], dataset['Low'], dataset['Close'])"
      ],
      "metadata": {
        "colab": {
          "base_uri": "https://localhost:8080/"
        },
        "id": "sJlOHPh6AOsZ",
        "outputId": "6f2c78c1-827b-4324-c0bd-beb8778fc349"
      },
      "execution_count": 4,
      "outputs": [
        {
          "output_type": "stream",
          "name": "stderr",
          "text": [
            "\r[*********************100%%**********************]  1 of 1 completed"
          ]
        },
        {
          "output_type": "stream",
          "name": "stdout",
          "text": [
            "Index(['Open', 'High', 'Low', 'Close', 'Adj Close', 'Volume'], dtype='object')\n"
          ]
        },
        {
          "output_type": "stream",
          "name": "stderr",
          "text": [
            "\n"
          ]
        }
      ]
    },
    {
      "cell_type": "code",
      "source": [
        "from sklearn.preprocessing import StandardScaler\n",
        "from keras.models import Sequential\n",
        "from keras.layers import Dense\n",
        "from keras.layers import Dropout\n"
      ],
      "metadata": {
        "id": "KmfXVUfgAeLN"
      },
      "execution_count": 5,
      "outputs": []
    },
    {
      "cell_type": "code",
      "source": [
        "dataset['Price_Rise'] = np.where(dataset['Close'].shift(-1) > dataset['Close'], 1, 0)\n",
        "dataset = dataset.dropna()\n",
        "print(dataset.head())\n",
        "X = dataset.iloc[:, 4:-1]\n",
        "y = dataset.iloc[:, -1]\n",
        "\n",
        "split = int(len(dataset)*0.9)\n",
        "X_train, X_test, y_train, y_test = X[:split], X[split:], y[:split], y[split:]"
      ],
      "metadata": {
        "colab": {
          "base_uri": "https://localhost:8080/"
        },
        "id": "mXxLO7DCApOP",
        "outputId": "ac98ea5c-1d1c-42a5-e739-0c19f77df811"
      },
      "execution_count": 6,
      "outputs": [
        {
          "output_type": "stream",
          "name": "stdout",
          "text": [
            "                Open      High       Low     Close  Adj Close     Volume  \\\n",
            "Date                                                                       \n",
            "2010-02-17  7.292500  7.296786  7.173571  7.233929   6.124240  436396800   \n",
            "2010-02-18  7.201071  7.281786  7.175714  7.247500   6.135731  422825200   \n",
            "2010-02-19  7.209286  7.257143  7.182500  7.202500   6.097632  415469600   \n",
            "2010-02-22  7.226429  7.232143  7.113929  7.157857   6.059838  390563600   \n",
            "2010-02-23  7.142857  7.190357  6.989643  7.037857   5.958245  575094800   \n",
            "\n",
            "                 H-L       O-C   3day MA  10day MA  30day MA   Std_dev  \\\n",
            "Date                                                                     \n",
            "2010-02-17  0.123215 -0.058571  7.172024  7.037429  7.275952  0.118165   \n",
            "2010-02-18  0.106072  0.046429  7.218215  7.061321  7.262310  0.071392   \n",
            "2010-02-19  0.074643 -0.006786  7.248572  7.074536  7.248679  0.042587   \n",
            "2010-02-22  0.118214 -0.068572  7.227976  7.108893  7.237607  0.042048   \n",
            "2010-02-23  0.200714 -0.105000  7.202619  7.126607  7.225512  0.084532   \n",
            "\n",
            "                  RSI  Williams %R  Price_Rise  \n",
            "Date                                            \n",
            "2010-02-17  44.352624   -19.344177           1  \n",
            "2010-02-18  54.669073    -9.815112           0  \n",
            "2010-02-19  64.556210   -19.613701           0  \n",
            "2010-02-22  59.006024   -28.900481           0  \n",
            "2010-02-23  51.774102   -53.863284           1  \n"
          ]
        }
      ]
    },
    {
      "cell_type": "code",
      "source": [
        "sc = StandardScaler()\n",
        "# X_train = sc.fit_transform(X_train)\n",
        "# X_test = sc.transform(X_test)"
      ],
      "metadata": {
        "id": "BrnAOep1BEWi"
      },
      "execution_count": 7,
      "outputs": []
    },
    {
      "cell_type": "code",
      "source": [
        "classifier = Sequential()\n",
        "classifier.add(Dense(units = 128, kernel_initializer = 'uniform', activation = 'relu', input_dim = X.shape[1]))\n",
        "classifier.add(Dense(units = 128, kernel_initializer = 'uniform', activation = 'relu'))\n",
        "classifier.add(Dense(units = 1, kernel_initializer = 'uniform', activation = 'sigmoid'))\n",
        "classifier.compile(optimizer = 'adam', loss = 'mean_squared_error', metrics = ['accuracy'])"
      ],
      "metadata": {
        "id": "YWYeKUnOBHEG"
      },
      "execution_count": 8,
      "outputs": []
    },
    {
      "cell_type": "code",
      "source": [
        "classifier.fit(X_train, y_train, batch_size = 16, epochs = 10)"
      ],
      "metadata": {
        "colab": {
          "base_uri": "https://localhost:8080/"
        },
        "id": "vNX4B1t3BKEN",
        "outputId": "c7c6cc65-94a7-437c-e41a-ee30306755b6"
      },
      "execution_count": 9,
      "outputs": [
        {
          "output_type": "stream",
          "name": "stdout",
          "text": [
            "Epoch 1/10\n",
            "169/169 [==============================] - 7s 10ms/step - loss: 0.4701 - accuracy: 0.5299\n",
            "Epoch 2/10\n",
            "169/169 [==============================] - 1s 3ms/step - loss: 0.4701 - accuracy: 0.5299\n",
            "Epoch 3/10\n",
            "169/169 [==============================] - 1s 4ms/step - loss: 0.4701 - accuracy: 0.5299\n",
            "Epoch 4/10\n",
            "169/169 [==============================] - 1s 4ms/step - loss: 0.4701 - accuracy: 0.5299\n",
            "Epoch 5/10\n",
            "169/169 [==============================] - 1s 4ms/step - loss: 0.4701 - accuracy: 0.5299\n",
            "Epoch 6/10\n",
            "169/169 [==============================] - 1s 4ms/step - loss: 0.4701 - accuracy: 0.5299\n",
            "Epoch 7/10\n",
            "169/169 [==============================] - 1s 3ms/step - loss: 0.4701 - accuracy: 0.5299\n",
            "Epoch 8/10\n",
            "169/169 [==============================] - 1s 3ms/step - loss: 0.4701 - accuracy: 0.5299\n",
            "Epoch 9/10\n",
            "169/169 [==============================] - 1s 4ms/step - loss: 0.4701 - accuracy: 0.5299\n",
            "Epoch 10/10\n",
            "169/169 [==============================] - 1s 3ms/step - loss: 0.4701 - accuracy: 0.5299\n"
          ]
        },
        {
          "output_type": "execute_result",
          "data": {
            "text/plain": [
              "<keras.src.callbacks.History at 0x7f2c02e821a0>"
            ]
          },
          "metadata": {},
          "execution_count": 9
        }
      ]
    },
    {
      "cell_type": "code",
      "source": [
        "scores = classifier.evaluate(X_test, y_test, verbose=1) # scores has [loss] and [accuracy]\n",
        "print(scores)\n",
        "#Print out the error rate\n",
        "print('Simple NN Accuracy: %.2f%%'% (scores[1]*100))\n",
        "print(\"Simple NN Error:    %.2f%%\"% (100-scores[1]*100))"
      ],
      "metadata": {
        "colab": {
          "base_uri": "https://localhost:8080/"
        },
        "id": "BpV-qkR7BZxW",
        "outputId": "42b2088d-9e3a-463d-fa83-2a2c7fe904a0"
      },
      "execution_count": 10,
      "outputs": [
        {
          "output_type": "stream",
          "name": "stdout",
          "text": [
            "10/10 [==============================] - 0s 3ms/step - loss: 0.4700 - accuracy: 0.5300\n",
            "[0.4699999988079071, 0.5299999713897705]\n",
            "Simple NN Accuracy: 53.00%\n",
            "Simple NN Error:    47.00%\n"
          ]
        }
      ]
    },
    {
      "cell_type": "code",
      "source": [
        "# import matplotlib.pyplot as plt\n",
        "# from sklearn.metrics import confusion_matrix, accuracy_score\n",
        "\n",
        "# y_pred = classifier.predict(X_test)\n",
        "# y_pred_binary = (y_pred > 0.5)  # Convert probabilities to binary predictions\n",
        "\n",
        "# # Step 4: Calculate accuracy\n",
        "# accuracy = accuracy_score(y_test, y_pred_binary)\n",
        "# print(\"Accuracy:\", accuracy)\n",
        "\n",
        "# # Step 5: Plot the confusion matrix\n",
        "# cm = confusion_matrix(y_test, y_pred_binary)\n",
        "# plt.figure(figsize=(8, 6))\n",
        "# plt.imshow(cm, interpolation='nearest', cmap=plt.cm.Blues)\n",
        "# plt.title('Confusion Matrix')\n",
        "# plt.colorbar()\n",
        "# plt.xlabel('Predicted Label')\n",
        "# plt.ylabel('True Label')\n",
        "# plt.show()"
      ],
      "metadata": {
        "id": "BcyP_h4BEnvo"
      },
      "execution_count": 11,
      "outputs": []
    },
    {
      "cell_type": "code",
      "source": [
        "# # Make predictions on the test set\n",
        "# predictions = classifier.predict(X_test)\n",
        "\n",
        "# # Plot actual vs predicted values\n",
        "# plt.figure(figsize=(10, 6))\n",
        "# plt.scatter(y_test, predictions)\n",
        "# plt.title('Actual vs Predicted Values')\n",
        "# plt.xlabel('Actual Values')\n",
        "# plt.ylabel('Predicted Values')\n",
        "# plt.show()"
      ],
      "metadata": {
        "id": "9l5jht_uHuCS"
      },
      "execution_count": 12,
      "outputs": []
    }
  ]
}